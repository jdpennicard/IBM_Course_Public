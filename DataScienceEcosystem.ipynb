{
 "cells": [
  {
   "cell_type": "markdown",
   "id": "a52c8396",
   "metadata": {},
   "source": [
    "_Excercise: 2_"
   ]
  },
  {
   "cell_type": "markdown",
   "id": "24c13dc9",
   "metadata": {},
   "source": [
    "# Data Science Tools and Ecosystem"
   ]
  },
  {
   "cell_type": "markdown",
   "id": "2ddbffa0",
   "metadata": {},
   "source": [
    "_Excercise: 3 & 10_"
   ]
  },
  {
   "cell_type": "markdown",
   "id": "e11393ce",
   "metadata": {},
   "source": [
    "In this notebook, Data Science Tools and Ecosystem are summarized."
   ]
  },
  {
   "cell_type": "markdown",
   "id": "f9c189dc",
   "metadata": {},
   "source": [
    "__Objectives:__\n",
    "- List popular Data Science languages\n",
    "- Demonstrate markdown in multiple different formats\n",
    "- Display basic arithmetic process"
   ]
  },
  {
   "cell_type": "markdown",
   "id": "50501e88",
   "metadata": {},
   "source": [
    "_Excercise: 4_"
   ]
  },
  {
   "cell_type": "markdown",
   "id": "23c72473",
   "metadata": {},
   "source": [
    "Some of the popular languages that Data Scientists use are:\n",
    "1. Python\n",
    "2. SQl\n",
    "3. R\n",
    "4. Julia\n",
    " "
   ]
  },
  {
   "cell_type": "markdown",
   "id": "c4d852a1",
   "metadata": {},
   "source": [
    "_Excercise: 5_"
   ]
  },
  {
   "cell_type": "markdown",
   "id": "16c601c7",
   "metadata": {},
   "source": [
    "Some of the commonly used libraries used by Data Scientists include:\n",
    "1. Pandas\n",
    "2. Numpy\n",
    "3. Plotly\n",
    "4. Scikit Learn"
   ]
  },
  {
   "cell_type": "markdown",
   "id": "1a317e5b",
   "metadata": {},
   "source": [
    "_Excercise: 6_"
   ]
  },
  {
   "cell_type": "markdown",
   "id": "a184bae5",
   "metadata": {},
   "source": [
    "Data Science Tools |\n",
    "-----\n",
    "Vscode |\n",
    "Jupyter Notebook |\n",
    "R Studio "
   ]
  },
  {
   "cell_type": "markdown",
   "id": "6212d54f",
   "metadata": {},
   "source": [
    "_Excercise: 7_"
   ]
  },
  {
   "cell_type": "markdown",
   "id": "80a68ed4",
   "metadata": {},
   "source": [
    "### Below are a few examples of evaluating arithmetic expressions in Python"
   ]
  },
  {
   "cell_type": "markdown",
   "id": "419f3f88",
   "metadata": {},
   "source": [
    "_Excercise: 8_"
   ]
  },
  {
   "cell_type": "markdown",
   "id": "6b14dc96",
   "metadata": {},
   "source": [
    "This a simple arithmetic expression to mutiply then add integers"
   ]
  },
  {
   "cell_type": "code",
   "execution_count": 8,
   "id": "2bf2b4f5",
   "metadata": {},
   "outputs": [
    {
     "data": {
      "text/plain": [
       "17"
      ]
     },
     "execution_count": 8,
     "metadata": {},
     "output_type": "execute_result"
    }
   ],
   "source": [
    "(3*4)+5"
   ]
  },
  {
   "cell_type": "markdown",
   "id": "ea8ae3f9",
   "metadata": {},
   "source": [
    "_Excercise: 9_"
   ]
  },
  {
   "cell_type": "code",
   "execution_count": 13,
   "id": "4edf85b8",
   "metadata": {},
   "outputs": [
    {
     "name": "stdout",
     "output_type": "stream",
     "text": [
      "200 minutes is: 3.3333333333333335 hours\n"
     ]
    }
   ],
   "source": [
    "a = \"This will convert 200 minutes to hours by diving by 60\"\n",
    "b = 200/60\n",
    "print(\"200 minutes is:\", b , \"hours\")"
   ]
  },
  {
   "cell_type": "markdown",
   "id": "e9b38a42",
   "metadata": {},
   "source": [
    "_Excercise: 11_"
   ]
  },
  {
   "cell_type": "markdown",
   "id": "a7d01d7d",
   "metadata": {},
   "source": [
    "## Author\n",
    "Jake Pennicard"
   ]
  }
 ],
 "metadata": {
  "kernelspec": {
   "display_name": "Python 3",
   "language": "python",
   "name": "python3"
  },
  "language_info": {
   "codemirror_mode": {
    "name": "ipython",
    "version": 3
   },
   "file_extension": ".py",
   "mimetype": "text/x-python",
   "name": "python",
   "nbconvert_exporter": "python",
   "pygments_lexer": "ipython3",
   "version": "3.13.2"
  }
 },
 "nbformat": 4,
 "nbformat_minor": 5
}
